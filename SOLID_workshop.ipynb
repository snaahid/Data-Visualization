{
  "nbformat": 4,
  "nbformat_minor": 0,
  "metadata": {
    "colab": {
      "provenance": [],
      "authorship_tag": "ABX9TyPHilJfLepK1lqCxDYooZJK",
      "include_colab_link": true
    },
    "kernelspec": {
      "name": "python3",
      "display_name": "Python 3"
    },
    "language_info": {
      "name": "python"
    }
  },
  "cells": [
    {
      "cell_type": "markdown",
      "metadata": {
        "id": "view-in-github",
        "colab_type": "text"
      },
      "source": [
        "<a href=\"https://colab.research.google.com/github/snaahid/Data-Visualization/blob/main/SOLID_workshop.ipynb\" target=\"_parent\"><img src=\"https://colab.research.google.com/assets/colab-badge.svg\" alt=\"Open In Colab\"/></a>"
      ]
    },
    {
      "cell_type": "code",
      "execution_count": null,
      "metadata": {
        "id": "3Kkvq_7DeL7b"
      },
      "outputs": [],
      "source": []
    },
    {
      "cell_type": "markdown",
      "source": [
        "# **Workshop Use Case for SOLID Principles: E-commerce Application**\n",
        "The use case revolves around managing an e-commerce platform where users, products, orders, and notifications are handled.\n"
      ],
      "metadata": {
        "id": "1TnV5Hc9jUv8"
      }
    },
    {
      "cell_type": "code",
      "source": [],
      "metadata": {
        "id": "f69fKYC4j03P"
      },
      "execution_count": null,
      "outputs": []
    },
    {
      "cell_type": "code",
      "source": [],
      "metadata": {
        "id": "JR6ZC7R6j82d"
      },
      "execution_count": null,
      "outputs": []
    }
  ]
}